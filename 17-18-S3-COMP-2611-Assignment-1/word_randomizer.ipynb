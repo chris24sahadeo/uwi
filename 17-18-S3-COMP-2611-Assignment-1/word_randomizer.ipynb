{
 "cells": [
  {
   "cell_type": "code",
   "execution_count": 8,
   "metadata": {},
   "outputs": [],
   "source": [
    "import random\n",
    "with open('words_alpha.txt', 'r') as source:\n",
    "    data = [(random.random(), line) for line in source]\n",
    "data.sort();\n",
    "with open('dictionary_en_randomized_five_letter.txt', 'w') as target:\n",
    "    for _, line in data:\n",
    "        line = line.strip()\n",
    "        if len(line) <= 4:\n",
    "            target.write(line+'\\n')"
   ]
  },
  {
   "cell_type": "code",
   "execution_count": null,
   "metadata": {},
   "outputs": [],
   "source": []
  }
 ],
 "metadata": {
  "kernelspec": {
   "display_name": "Python 3",
   "language": "python",
   "name": "python3"
  },
  "language_info": {
   "codemirror_mode": {
    "name": "ipython",
    "version": 3
   },
   "file_extension": ".py",
   "mimetype": "text/x-python",
   "name": "python",
   "nbconvert_exporter": "python",
   "pygments_lexer": "ipython3",
   "version": "3.6.5"
  }
 },
 "nbformat": 4,
 "nbformat_minor": 2
}
