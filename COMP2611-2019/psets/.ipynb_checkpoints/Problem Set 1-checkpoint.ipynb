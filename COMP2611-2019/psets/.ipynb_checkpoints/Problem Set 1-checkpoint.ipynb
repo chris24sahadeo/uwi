{
 "cells": [
  {
   "cell_type": "markdown",
   "metadata": {},
   "source": [
    "# Problem Set 1\n",
    "\n",
    "This problem set is to extra material help you develop insight into the topics covered in the course. At the end of this particular problem set, you should have a better understanding of:\n",
    "\n",
    "* How to write simple classes in Python\n",
    "* Read and write data to plain text files in Python\n",
    "* Determining the Big-O of simple algorithms and snippets of code\n",
    "\n",
    "Doing these problem sets are important as covering the material here will help you during the course work and final exams. We will provide you with solutions, in the week following every PSet release to prevent you from being tempted at looking at the solutions before trying the questions your self."
   ]
  },
  {
   "cell_type": "markdown",
   "metadata": {},
   "source": [
    "1. Write a Queue class in Python that exposes an enqueue, dequeue, and `__len__` method\n",
    "2. Consider the text file called \"expressions.txt\". This file contains simple arithmetic expressions written in infix notation. Using the Stack class shown in lab 1 or otherwise, write code to implement the [Shunting Yard Algorithm](https://en.wikipedia.org/wiki/Shunting-yard_algorithm) to generate postfix expressions. Each expression in expressions.txt is written on a single line. Moreover, each expression contains only numbers comprising a single digit. Each token is separated by whitespace. Write each postfix expression generated to a file \"answers.txt\". Only consider the operations +, -, /, *, and ^.\n",
    "3. Each node in a link list has three field: `data` (storing an int), `next` (storing a pointer to the next node), and `prev` (storing a pointer to the previous node). The link list is ordered in descending order by `data`. Using code or pseudocode, write an algorithm that accepts the `head` of such a link list and an int value `size` that finds the  node with the smallest `data` that is still at least as large as `size`, removes that node from the list, subtracts `size` from the `data` of that node and then reinserts the modified node back into the link list.\n",
    "4. Consider the following code:\n",
    "    ```python\n",
    "    def foobar(arr):\n",
    "        s = 0\n",
    "        p = 1\n",
    "        for x in arr:\n",
    "            s += x\n",
    "        for x in arr:\n",
    "            p *= x\n",
    "        return s, p\n",
    "    ```\n",
    "    What is the runtime of this code?\n",
    "5. Consider the following code:\n",
    "    ```python\n",
    "    \n",
    "    def baz(arr):\n",
    "        x = 0\n",
    "        for i in range(len(arr)):\n",
    "            for j in range(i, len(arr)):\n",
    "                x += arr[i] * arr[j]\n",
    "        return x\n",
    "    ```\n",
    "    What is the runtime of this code?"
   ]
  },
  {
   "cell_type": "code",
   "execution_count": null,
   "metadata": {
    "collapsed": true
   },
   "outputs": [],
   "source": []
  }
 ],
 "metadata": {
  "kernelspec": {
   "display_name": "Python 3",
   "language": "python",
   "name": "python3"
  },
  "language_info": {
   "codemirror_mode": {
    "name": "ipython",
    "version": 3
   },
   "file_extension": ".py",
   "mimetype": "text/x-python",
   "name": "python",
   "nbconvert_exporter": "python",
   "pygments_lexer": "ipython3",
   "version": "3.6.3"
  }
 },
 "nbformat": 4,
 "nbformat_minor": 2
}
