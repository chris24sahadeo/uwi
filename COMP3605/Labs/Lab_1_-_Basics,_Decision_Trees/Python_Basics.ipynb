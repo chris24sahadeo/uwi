{
 "cells": [
  {
   "cell_type": "markdown",
   "metadata": {},
   "source": [
    "# Python Basics\n",
    "Useful Python tutorials and resources:\n",
    "- [Python Documentation](https://docs.python.org/3/tutorial/index.html)\n",
    "- [Tutorials Point](https://www.tutorialspoint.com/python/)\n",
    "- [Derek Banas YouTube Crash Course](https://www.youtube.com/watch?v=N4mEzFDjqtA&t=1811s) **Excellent for revising/brushing up**"
   ]
  },
  {
   "cell_type": "markdown",
   "metadata": {},
   "source": [
    "## Output"
   ]
  },
  {
   "cell_type": "code",
   "execution_count": 1,
   "metadata": {},
   "outputs": [
    {
     "name": "stdout",
     "output_type": "stream",
     "text": [
      "hello, world!\n"
     ]
    }
   ],
   "source": [
    "print('hello, world!')"
   ]
  },
  {
   "cell_type": "markdown",
   "metadata": {},
   "source": [
    "## Arithmetic"
   ]
  },
  {
   "cell_type": "code",
   "execution_count": 2,
   "metadata": {},
   "outputs": [
    {
     "name": "stdout",
     "output_type": "stream",
     "text": [
      "4\n"
     ]
    }
   ],
   "source": [
    "foo = 2\n",
    "bar = 2\n",
    "sum = foo + bar\n",
    "print(sum)"
   ]
  },
  {
   "cell_type": "markdown",
   "metadata": {},
   "source": [
    "## Swap variable values in one line\n",
    "`i, j = j, i`"
   ]
  },
  {
   "cell_type": "code",
   "execution_count": 5,
   "metadata": {},
   "outputs": [
    {
     "name": "stdout",
     "output_type": "stream",
     "text": [
      "Before Swap...\n",
      "i is 1 and j is 2\n",
      "After Swap...\n",
      "i is 2 and j is 1\n"
     ]
    }
   ],
   "source": [
    "i = 1\n",
    "j = 2\n",
    "\n",
    "print('Before Swap...')\n",
    "print('i is {} and j is {}'.format(i, j))\n",
    "\n",
    "i, j = j, i   # swapping \n",
    "\n",
    "print('After Swap...')\n",
    "print('i is {} and j is {}'.format(i, j))"
   ]
  },
  {
   "cell_type": "markdown",
   "metadata": {},
   "source": [
    "## Loops"
   ]
  },
  {
   "cell_type": "code",
   "execution_count": 8,
   "metadata": {},
   "outputs": [
    {
     "name": "stdout",
     "output_type": "stream",
     "text": [
      "0\n",
      "2\n",
      "4\n",
      "6\n",
      "8\n"
     ]
    }
   ],
   "source": [
    "# For loop\n",
    "for i in range(0, 10, 2):\n",
    "    print(i)"
   ]
  },
  {
   "cell_type": "code",
   "execution_count": 9,
   "metadata": {},
   "outputs": [
    {
     "name": "stdout",
     "output_type": "stream",
     "text": [
      "100\n",
      "80\n",
      "60\n",
      "40\n",
      "20\n"
     ]
    }
   ],
   "source": [
    "# while loop\n",
    "i = 100\n",
    "while(i > 0):\n",
    "    print(i)\n",
    "    i-=20"
   ]
  },
  {
   "cell_type": "markdown",
   "metadata": {},
   "source": [
    "## Basic Lists"
   ]
  },
  {
   "cell_type": "code",
   "execution_count": 10,
   "metadata": {},
   "outputs": [
    {
     "name": "stdout",
     "output_type": "stream",
     "text": [
      "1\n",
      "2\n",
      "3\n"
     ]
    }
   ],
   "source": [
    "list = [1, 2, 3]\n",
    "for number in list:\n",
    "    print(number)"
   ]
  },
  {
   "cell_type": "markdown",
   "metadata": {},
   "source": [
    "## Functions"
   ]
  },
  {
   "cell_type": "code",
   "execution_count": 12,
   "metadata": {},
   "outputs": [
    {
     "name": "stdout",
     "output_type": "stream",
     "text": [
      "2 + 3 = 5\n",
      "sum of numbers from 1 to 5 is 15\n"
     ]
    }
   ],
   "source": [
    "def sum(num1, num2):\n",
    "    return num1 + num2\n",
    "\n",
    "print('2 + 3 = {}'.format(sum(2, 3)))\n",
    "\n",
    "\n",
    "def sum_range(start, end):\n",
    "    '''\n",
    "    Finds the sum of integers between start and end\n",
    "    '''\n",
    "    result = 0;\n",
    "    for i in range(start, end+1):\n",
    "        result += i\n",
    "    return result\n",
    "\n",
    "\n",
    "print('sum of numbers from 1 to 5 is {}'.format(sum_range(1, 5)))"
   ]
  }
 ],
 "metadata": {
  "kernelspec": {
   "display_name": "Python 3",
   "language": "python",
   "name": "python3"
  },
  "language_info": {
   "codemirror_mode": {
    "name": "ipython",
    "version": 3
   },
   "file_extension": ".py",
   "mimetype": "text/x-python",
   "name": "python",
   "nbconvert_exporter": "python",
   "pygments_lexer": "ipython3",
   "version": "3.6.5"
  }
 },
 "nbformat": 4,
 "nbformat_minor": 2
}
