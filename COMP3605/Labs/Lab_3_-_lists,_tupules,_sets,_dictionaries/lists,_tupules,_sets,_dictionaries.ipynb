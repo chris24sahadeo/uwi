{
 "cells": [
  {
   "cell_type": "markdown",
   "metadata": {},
   "source": [
    "# [Python docs on basic Data Structures](https://docs.python.org/3/tutorial/datastructures.html)\n",
    "# Lists"
   ]
  },
  {
   "cell_type": "code",
   "execution_count": 4,
   "metadata": {},
   "outputs": [
    {
     "name": "stdout",
     "output_type": "stream",
     "text": [
      "['Jim', 'Paul', 'Sally', 'Tom', 'Mary']\n",
      "name at index 1: Paul\n",
      "name at index -2: Tom\n",
      "All names: ['Jim', 'Paul', 'Sally', 'Tom', 'Mary']\n",
      "Prints from index 2 to 3: ['Sally', 'Tom']\n",
      "['Jim', 'Paul', 'Sally', 'Tom']\n",
      "Prints 3rd to last: Sally\n",
      "['Jim', 'Paul', 'Sally', 'Tom', 'Mary', 'Bob', 'Joe']\n",
      "['Jim', 'Paul', 'Sally', 'Tom', 'Mary', 'Bob', 'Joe', 'Jane']\n",
      "['Jim', 'Paul', 'Sally', 'Mary', 'Bob', 'Joe', 'Jane']\n",
      "['Jim', 'Tom', 'Paul', 'Sally', 'Mary', 'Bob', 'Joe', 'Jane']\n",
      "['Jim', 'Tom', 'Paul', 'Sally', 'Mary', 'Bob', 'Joe']\n",
      "['Tom', 'Paul', 'Sally', 'Mary', 'Bob', 'Joe']\n",
      "[]\n",
      "1\n",
      "['Bob', 'Joe', 'Mary', 'Paul', 'Sally', 'Tom']\n",
      "['Tom', 'Sally', 'Paul', 'Mary', 'Joe', 'Bob']\n",
      "[['a', 'b', 'c'], [1, 2, 3]]\n",
      "b\n",
      "1\n",
      "a\n"
     ]
    }
   ],
   "source": [
    "names = ['Jim', 'Paul', 'Sally', 'Tom', 'Mary']\n",
    "print(names)\n",
    "\n",
    "print('name at index 1:', names[1])\n",
    "print('name at index -2:', names[-2])\n",
    "\n",
    "print('All names: {}'.format(names[:]))\n",
    "print('Prints from index 2 to 3: {}'.format(names[2:4])) #prints from index 2 to 3\n",
    "print(names[:4]) #prints all up to index 4\n",
    "print('Prints 3rd to last: {}'.format(names[-3])) #prints 3rd to last\n",
    "\n",
    "names2 = ['Bob','Joe']\n",
    "\n",
    "all_names = names + names2\n",
    "print(all_names)\n",
    "\n",
    "all_names.append('Jane')\n",
    "print(all_names)\n",
    "\n",
    "all_names.remove('Tom')\n",
    "print(all_names)\n",
    "\n",
    "all_names.insert(1,'Tom')\n",
    "print(all_names)\n",
    "\n",
    "all_names.pop()\n",
    "print(all_names)\n",
    "\n",
    "del all_names[0]\n",
    "print(all_names)\n",
    "\n",
    "names2.clear()\n",
    "print(names2)\n",
    "\n",
    "print(all_names.count('Sally'))\n",
    "\n",
    "all_names.sort()\n",
    "print(all_names)\n",
    "\n",
    "all_names.reverse()\n",
    "print(all_names)\n",
    "\n",
    "alp = ['a', 'b', 'c']\n",
    "nums = [1, 2, 3]\n",
    "x = [alp, nums]\n",
    "print(x)\n",
    "print(x[0][1])\n",
    "\n",
    "print(min(nums))\n",
    "print(min(alp))\n"
   ]
  },
  {
   "cell_type": "markdown",
   "metadata": {},
   "source": [
    "# Tuples\n",
    "Like a list but cannot be changed"
   ]
  },
  {
   "cell_type": "code",
   "execution_count": 5,
   "metadata": {},
   "outputs": [
    {
     "name": "stdout",
     "output_type": "stream",
     "text": [
      "(0, 1, 2, 3, 4, 5, 'a', 'b', 'c')\n"
     ]
    }
   ],
   "source": [
    "# cannot be changed\n",
    "\n",
    "y = (0, 1, 2, 3, 4, 5)\n",
    "\n",
    "z = ('a', 'b', 'c')\n",
    "\n",
    "combined = y + z\n",
    "\n",
    "print(combined)\n",
    "\n",
    "# have count, index, min , max"
   ]
  },
  {
   "cell_type": "markdown",
   "metadata": {},
   "source": [
    "# Sets\n",
    "- Cannot have duplicates\n",
    "- Order doesn't matter\n",
    "- Cannot change size during iteration"
   ]
  },
  {
   "cell_type": "code",
   "execution_count": 1,
   "metadata": {},
   "outputs": [
    {
     "name": "stdout",
     "output_type": "stream",
     "text": [
      "{'Paul', 'Tom', 'Jane', 'Sally'}\n",
      "7\n",
      "set()\n",
      "{'Tom', 'Sam'}\n"
     ]
    }
   ],
   "source": [
    "# cannot have duplicates, order does not matter\n",
    "\n",
    "people = {'Tom', 'Paul', 'Sally', 'Jane'}\n",
    "print(people)\n",
    "\n",
    "# use add to add a single element\n",
    "people.add('Joe')\n",
    "\n",
    "# use update to add more than one element\n",
    "people.update(['Sam', 'Mary'])  \n",
    "\n",
    "# gets the length of the list\n",
    "print(len(people))\n",
    "\n",
    "people.remove('Tom')    # error thrown if dne\n",
    "\n",
    "people.discard('Sam')   # no error thrown if dne\n",
    "\n",
    "# also has pop, clear, del\n",
    "\n",
    "people = {'Jane', 'Sally', 'Joe', 'Mary', 'Paul'}\n",
    "people2 = {'Jane', 'Sally', 'Tom', 'Joe', 'Mary', 'Paul', 'Sam'}\n",
    "\n",
    "diff = people.difference(people2)   # in people but not in people 2\n",
    "print(diff)\n",
    "\n",
    "diff = people2.difference(people)   # in people 2 but not in people\n",
    "print(diff)\n",
    "\n",
    "inter = people.intersection(people2)  # prints common elements in the 2 lists"
   ]
  },
  {
   "cell_type": "markdown",
   "metadata": {},
   "source": [
    "# Dictionaires\n",
    "Like `structs` and `json`"
   ]
  },
  {
   "cell_type": "code",
   "execution_count": 8,
   "metadata": {},
   "outputs": [
    {
     "name": "stdout",
     "output_type": "stream",
     "text": [
      "{'Name': 'Tom', 'Age': 20, 'Gender': 'Male'}\n",
      "Tom\n",
      "20\n",
      "Name\n",
      "Age\n",
      "Gender\n",
      "Occupation\n",
      "Tom\n",
      "22\n",
      "Male\n",
      "Student\n",
      "dict_keys(['Name', 'Age', 'Gender', 'Occupation'])\n",
      "dict_values(['Tom', 22, 'Male', 'Student'])\n",
      "dict_items([('Name', 'Tom'), ('Age', 22), ('Gender', 'Male'), ('Occupation', 'Student')])\n",
      "4\n"
     ]
    }
   ],
   "source": [
    "mydict = {\n",
    "    'Name': 'Tom',\n",
    "    'Age': 20,\n",
    "    'Gender': 'Male'\n",
    "}\n",
    "print(mydict)\n",
    "\n",
    "print(mydict['Name'])\n",
    "\n",
    "print(mydict.get('Age'))\n",
    "\n",
    "mydict['Age'] = 22\n",
    "\n",
    "mydict['Occupation'] = 'Student'\n",
    "\n",
    "# prints keys\n",
    "for key in mydict:\n",
    "    print(key)\n",
    "\n",
    "# prints values\n",
    "for key in mydict:\n",
    "    print(mydict[key])\n",
    "\n",
    "print(mydict.keys())\n",
    "print(mydict.values())\n",
    "print(mydict.items())       # key value pairs\n",
    "\n",
    "print(len(mydict))\n",
    "\n",
    "# has pop del clear\n"
   ]
  }
 ],
 "metadata": {
  "kernelspec": {
   "display_name": "Python 3",
   "language": "python",
   "name": "python3"
  },
  "language_info": {
   "codemirror_mode": {
    "name": "ipython",
    "version": 3
   },
   "file_extension": ".py",
   "mimetype": "text/x-python",
   "name": "python",
   "nbconvert_exporter": "python",
   "pygments_lexer": "ipython3",
   "version": "3.7.0"
  }
 },
 "nbformat": 4,
 "nbformat_minor": 2
}
