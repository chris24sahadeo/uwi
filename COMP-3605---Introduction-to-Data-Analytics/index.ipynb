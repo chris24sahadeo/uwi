{
 "cells": [
  {
   "cell_type": "markdown",
   "metadata": {},
   "source": [
    "# COMP 3605 - Introduction to Data Analytics\n",
    "The 2018-2019 UWI STA Offering of COMP 3605 by [Dr Duc The Kieu](http://120.108.116.237/~ktduc/DA/DA.htm)\n",
    "***"
   ]
  },
  {
   "cell_type": "markdown",
   "metadata": {},
   "source": [
    "## Cheat Sheets (Work-in-Progress)\n",
    "- [Summary of Dr Kieu's Notes](https://github.com/chris24s/COMP-3605---Introduction-to-Data-Analytics/blob/master/Cheat%20Sheet/cheat_sheet.pdf)\n",
    "- [Python for Data Science](https://github.com/chris24s/COMP-3605---Introduction-to-Data-Analytics/blob/master/Cheat_Sheet/python_for_data_science_cheat_sheet.pdf)\n",
    "***"
   ]
  },
  {
   "cell_type": "markdown",
   "metadata": {},
   "source": [
    "## Coggle Mind Map\n",
    "Follow the **<font size=\"3\" color=\"red\">red path</font>** in the [Coggle Mind Map](https://coggle.it/diagram/W1gOaQ8lIqhFzrmg/t/programming) below."
   ]
  },
  {
   "cell_type": "code",
   "execution_count": 1,
   "metadata": {},
   "outputs": [
    {
     "data": {
      "text/html": [
       "<iframe src=https://coggle.it/diagram/W1gOaQ8lIqhFzrmg/t/programming/c4e9a26d190c5cea8cb99b1ac3b082da0f7fa8f03f43d879aef7aabc0ba29c6f width=900 height=500></iframe>"
      ],
      "text/plain": [
       "<IPython.core.display.HTML object>"
      ]
     },
     "execution_count": 1,
     "metadata": {},
     "output_type": "execute_result"
    }
   ],
   "source": [
    "# Display the associated webpage in a new window\n",
    "import IPython\n",
    "url = 'https://coggle.it/diagram/W1gOaQ8lIqhFzrmg/t/programming/c4e9a26d190c5cea8cb99b1ac3b082da0f7fa8f03f43d879aef7aabc0ba29c6f'\n",
    "iframe = '<iframe src=' + url + ' width=900 height=500></iframe>'\n",
    "IPython.display.HTML(iframe)"
   ]
  },
  {
   "cell_type": "markdown",
   "metadata": {},
   "source": [
    "***"
   ]
  },
  {
   "cell_type": "markdown",
   "metadata": {},
   "source": [
    "## Dr Kieu's Lecture Notes\n",
    "1. [Classification (Prediction) Methods](http://120.108.116.237/~ktduc/DA/Lecs/Topic01%20Classification%20Basics%20Jiawei%20Han.pdf)\n",
    "2. [Advanced Classification and Distance Metrics](http://120.108.116.237/~ktduc/DA/Lecs/Topic01%20Classification%20Alternatives%20Jiawei%20Han.pdf)\n",
    "3. [Cluster Analysis (Clustering)](http://120.108.116.237/~ktduc/DA/Lecs/Topic02%20Cluster%20Analysis%20Basics%20Jiawei%20Han.pdf)\n",
    "4. [Outlier/Anomaly Detection](http://120.108.116.237/~ktduc/DA/Lecs/Topic03%20Outlier%20Detection%20Jiawei%20Han.pdf)\n",
    "5. [Support Vector Machines (SVMs)](http://120.108.116.237/~ktduc/DA/Lecs/Topic05%20SVMs%20Pang-Ning%20Tan.pdf)\n",
    "6. [Association Analysis](http://120.108.116.237/~ktduc/DA/Lecs/Topic04%20Association%20Analysis%20Basic%20Methods%20Jiawei%20Han.pdf) (Association Patterns Mining, Mining Frequent Patterns)\n",
    "7. Artificial Neural Networks (ANNs)\n",
    "8. Genetic Algorithms (GAs)\n",
    "***"
   ]
  },
  {
   "cell_type": "markdown",
   "metadata": {},
   "source": [
    "## Labs\n",
    "### Lab 1\n",
    "- [Python Basics](Labs/Lab_1_-_Basics,_Decision_Trees/Python_Basics.ipynb)\n",
    "- [Decision Trees Classification with `sklearn.tree.DecisionTreeClassifier`](Labs/Lab_1_-_Basics,_Decision_Trees/Decision_Trees_with_sklearn.ipynb)\n",
    "\n",
    "### Lab 2\n",
    "- [Naïve Bayes Gaussian Classification with `sklearn.naive_bayes.GaussianNB`](Labs/Lab_2_-_Naive_Bayes_Gaussian_Classifier_and_Visualizing_Graphs/Naive_Bayes_Gaussian_Classification.ipynb)\n",
    "- [Visualizing Decision Trees with `graphviz`](Labs/Lab_2_-_Naive_Bayes_Gaussian_Classifier_and_Visualizing_Graphs/Visualizing_Decision_Trees.ipynb)\n",
    "\n",
    "### Lab 3\n",
    "- [Lists, Tuples, Sets, Dictionaries](Labs/Lab_3_-_lists,_tupules,_sets,_dictionaries/lists,_tupules,_sets,_dictionaries.ipynb)\n",
    "\n",
    "### Lab 4\n",
    "- [$k$-Means Custering with `sklearn.cluster.KMeans`](Labs/Lab_4_-_Clustering/k-Means_Clustering.ipynb)\n",
    "- [DBSCAN with `sklearn.cluster.DBSCAN`](Labs/Lab_4_-_Clustering/DBSCAN.ipynb)\n",
    "\n",
    "### Lab 5\n",
    "- [$k$-Nearest Neighbors Classification with `sklearn.neighbors.KNeighborsClassifier`](Labs/Lab_5_-_k_Nearest_Neighbours,_Outliers/k_Nearest_Neighbours_Classification.ipynb)\n",
    "- [Outlier Detection with `sklearn.cluster.DBSCAN`](Labs/Lab_5_-_k_Nearest_Neighbours,_Outliers/DBSCAN_and_Outliers.ipynb)\n",
    "\n",
    "### Lab 6\n",
    "- [$t$-SNE with `sklearn.manifold.TSNE` and Text to Numerical data with `sklearn.preprocessing.LabelEncoder` on the `iris` data set](Labs/Lab_6_-_TSNE,_LOF,_Isolated_Forest/t-SNE_TBC.ipynb)\n",
    "- [Outlier Detection with `LocalOutlierFactor` (LOF) using $k$NN](Labs/Lab_6_-_TSNE,_LOF,_Isolated_Forest/local_outlier_factor.ipynb)\n",
    "- [Outlier Detection with `IsolationForest` using Decision Trees](Labs/Lab_6_-_TSNE,_LOF,_Isolated_Forest/isolation_forest.ipynb)\n",
    "\n",
    "### Lab 7\n",
    "- [Association Analysis with the Apriori Principle](Labs/Lab_7_-_Association_Analysis,_Apriori/Association_Analysis.ipynb)\n",
    "\n",
    "### Lab 8\n",
    "- [Support Vector Machines with `sklearn.svm.SVC`](Labs/Lab_8_-_Support_Vector_Machines/Support_Vector_Machines_[SVMs].ipynb)\n",
    "\n",
    "***"
   ]
  },
  {
   "cell_type": "markdown",
   "metadata": {},
   "source": [
    "## Assignments **<font size=\"3\" color=\"red\">Coming Soon</font>**\n",
    "- [Assignment 1]() - Decision Tree Attribute Selection Methods\n",
    "- [Assignment 2]() - Clustering: $k$-Means and DBSCAN\n",
    "\n",
    "***"
   ]
  },
  {
   "cell_type": "markdown",
   "metadata": {},
   "source": [
    "## Coursework Exams\n",
    "- [Coursework Exam 1]()\n",
    "- [Coursework Exam 2](Coursework_Exams/Coursework_Exam_2/Coursework_Exam_2.ipynb)"
   ]
  },
  {
   "cell_type": "markdown",
   "metadata": {},
   "source": [
    "## [Final Exam Topics](Finals/finals.ipynb)"
   ]
  }
 ],
 "metadata": {
  "kernelspec": {
   "display_name": "Python 3",
   "language": "python",
   "name": "python3"
  },
  "language_info": {
   "codemirror_mode": {
    "name": "ipython",
    "version": 3
   },
   "file_extension": ".py",
   "mimetype": "text/x-python",
   "name": "python",
   "nbconvert_exporter": "python",
   "pygments_lexer": "ipython3",
   "version": "3.6.3"
  }
 },
 "nbformat": 4,
 "nbformat_minor": 2
}
