{
 "cells": [
  {
   "cell_type": "markdown",
   "metadata": {},
   "source": [
    "# Finals Topics\n",
    "\n",
    "- Decision tree attribute selection algorithms\n",
    "    - Info Gain\n",
    "    - Gain Ratio\n",
    "    - Gini Index\n",
    "    \n",
    "- Clustering\n",
    "    - $k$-means\n",
    "    - DBSCAN\n",
    "    \n",
    "- Association Rule Apriori Principle **(pay special attention to the example he gave cause it may be similar)**\n",
    "\n",
    "- Support Vector Machines **(pay special attention to the example he gave cause it may be similar)**\n",
    "\n"
   ]
  }
 ],
 "metadata": {
  "kernelspec": {
   "display_name": "Python 3",
   "language": "python",
   "name": "python3"
  },
  "language_info": {
   "codemirror_mode": {
    "name": "ipython",
    "version": 3
   },
   "file_extension": ".py",
   "mimetype": "text/x-python",
   "name": "python",
   "nbconvert_exporter": "python",
   "pygments_lexer": "ipython3",
   "version": "3.6.3"
  }
 },
 "nbformat": 4,
 "nbformat_minor": 2
}
