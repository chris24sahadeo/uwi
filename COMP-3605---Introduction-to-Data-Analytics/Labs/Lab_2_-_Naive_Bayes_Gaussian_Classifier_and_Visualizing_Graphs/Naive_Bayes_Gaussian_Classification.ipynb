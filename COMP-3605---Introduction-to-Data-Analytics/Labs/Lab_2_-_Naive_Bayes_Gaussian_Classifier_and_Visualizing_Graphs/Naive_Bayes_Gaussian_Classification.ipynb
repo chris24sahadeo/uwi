{
 "cells": [
  {
   "cell_type": "markdown",
   "metadata": {},
   "source": [
    "# Naïve Bayes Gaussian Classification with [`sklearn.naive_bayes.GaussianNB`](https://scikit-learn.org/stable/modules/generated/sklearn.naive_bayes.GaussianNB.html)\n",
    "\n",
    "## [Dr Kieu's Lecture Notes on Naïve Bayes Classification](http://120.108.116.237/~ktduc/DA/Lecs/Topic01%20Classification%20Basics%20Jiawei%20Han.pdf)\n",
    "Slides 51 to 80"
   ]
  },
  {
   "cell_type": "markdown",
   "metadata": {},
   "source": [
    "## Summary"
   ]
  },
  {
   "cell_type": "markdown",
   "metadata": {},
   "source": [
    "## Python Implementation from Lab"
   ]
  },
  {
   "cell_type": "markdown",
   "metadata": {},
   "source": [
    "### Imports"
   ]
  },
  {
   "cell_type": "code",
   "execution_count": 1,
   "metadata": {},
   "outputs": [],
   "source": [
    "import numpy as np\n",
    "import pandas as pd\n",
    "from sklearn.metrics import confusion_matrix, accuracy_score\n",
    "from sklearn.model_selection import train_test_split, KFold   # for making train, test data splits\n",
    "from sklearn.naive_bayes import GaussianNB"
   ]
  },
  {
   "cell_type": "markdown",
   "metadata": {},
   "source": [
    "### Viewing the data from `diabetes.csv` with [`pandas`](https://pandas.pydata.org/pandas-docs/stable/10min.html#min)\n",
    "Reading the data into a pandas dataframe and printing the data head"
   ]
  },
  {
   "cell_type": "code",
   "execution_count": 2,
   "metadata": {},
   "outputs": [
    {
     "name": "stdout",
     "output_type": "stream",
     "text": [
      "   Pregnancies  Glucose  BloodPressure  SkinThickness  Insulin   BMI  \\\n",
      "0            6      148             72             35        0  33.6   \n",
      "1            1       85             66             29        0  26.6   \n",
      "2            8      183             64              0        0  23.3   \n",
      "3            1       89             66             23       94  28.1   \n",
      "4            0      137             40             35      168  43.1   \n",
      "\n",
      "   DiabetesPedigreeFunction  Age  Outcome  \n",
      "0                     0.627   50        1  \n",
      "1                     0.351   31        0  \n",
      "2                     0.672   32        1  \n",
      "3                     0.167   21        0  \n",
      "4                     2.288   33        1  \n"
     ]
    }
   ],
   "source": [
    "data = pd.read_csv(\"diabetes.csv\")\n",
    "print(data.head())   #prints the first 5 rows in the dataframe"
   ]
  },
  {
   "cell_type": "markdown",
   "metadata": {},
   "source": [
    "Determining the number of distinct class labels"
   ]
  },
  {
   "cell_type": "code",
   "execution_count": 3,
   "metadata": {},
   "outputs": [
    {
     "name": "stdout",
     "output_type": "stream",
     "text": [
      "Distinct class labels and counts: \n",
      "0    500\n",
      "1    268\n",
      "Name: Outcome, dtype: int64\n"
     ]
    }
   ],
   "source": [
    "print('Distinct class labels and counts: \\n{}'.format(data['Outcome'].value_counts()))"
   ]
  },
  {
   "cell_type": "markdown",
   "metadata": {},
   "source": [
    "Viewing the data type for each attribute"
   ]
  },
  {
   "cell_type": "code",
   "execution_count": 4,
   "metadata": {},
   "outputs": [
    {
     "name": "stdout",
     "output_type": "stream",
     "text": [
      "Pregnancies                   int64\n",
      "Glucose                       int64\n",
      "BloodPressure                 int64\n",
      "SkinThickness                 int64\n",
      "Insulin                       int64\n",
      "BMI                         float64\n",
      "DiabetesPedigreeFunction    float64\n",
      "Age                           int64\n",
      "Outcome                       int64\n",
      "dtype: object\n"
     ]
    }
   ],
   "source": [
    "print(data.dtypes) "
   ]
  },
  {
   "cell_type": "markdown",
   "metadata": {},
   "source": [
    "### Data cleaning"
   ]
  },
  {
   "cell_type": "code",
   "execution_count": 5,
   "metadata": {},
   "outputs": [],
   "source": [
    "inputs = data.loc[:,:'Age']  #takes all columns up to and including the column labelled 'Age'\n",
    "target = data['Outcome']  #gets the column labelled 'Outcome'\n",
    "\n",
    "#removing header row\n",
    "X = inputs.values\n",
    "y = target.values\n",
    "\n",
    "#the data is slip such that 75% is used for training and 25% is used for testing\n",
    "x_train, x_test, y_train, y_test = train_test_split(X,y)  "
   ]
  },
  {
   "cell_type": "markdown",
   "metadata": {},
   "source": [
    "### Performing the Gaussian Classification"
   ]
  },
  {
   "cell_type": "code",
   "execution_count": 6,
   "metadata": {},
   "outputs": [
    {
     "data": {
      "text/plain": [
       "GaussianNB(priors=None)"
      ]
     },
     "execution_count": 6,
     "metadata": {},
     "output_type": "execute_result"
    }
   ],
   "source": [
    "clf = GaussianNB() #use the Gaussian instead of decision tree\n",
    "\n",
    "clf.fit(x_train, y_train)  # traning the model on the training set"
   ]
  },
  {
   "cell_type": "markdown",
   "metadata": {},
   "source": [
    "### A quick Prediction and Accuracy Test\n",
    "[**`confusion_matrix`**](https://scikit-learn.org/stable/modules/generated/sklearn.metrics.confusion_matrix.html)  \n",
    "By definition a confusion matrix $C$ is such that $C_{i,j}$ is equal to the number of observations known to be in group $i$ but predicted to be in group $j$.\n",
    "\n",
    "Thus in binary classification, the count of true negatives is $C_{0,0}$, false negatives is $C_{1,0}$, true positives is $C_{1,1}$ and false positives is $C_{0,1}$.\n",
    "\\begin{bmatrix}\n",
    "    TN & FP \\\\\n",
    "    FN & TP \\\\\n",
    "\\end{bmatrix}  \n",
    "  \n",
    "  \n",
    "[**`accuracy_score`**](https://scikit-learn.org/stable/modules/generated/sklearn.metrics.accuracy_score.html)\n",
    "\\begin{equation}\n",
    "    \\frac{TP+TN}{P+N}\n",
    "\\end{equation}"
   ]
  },
  {
   "cell_type": "code",
   "execution_count": 7,
   "metadata": {},
   "outputs": [
    {
     "name": "stdout",
     "output_type": "stream",
     "text": [
      "Confusion Matrix: \n",
      "[[106  25]\n",
      " [ 22  39]]\n",
      "\n",
      "Accuracy Score: \n",
      "75.52083333333334\n"
     ]
    }
   ],
   "source": [
    "y_pred = clf.predict(x_test)  # testing the model\n",
    "\n",
    "print('Confusion Matrix: \\n{}\\n'.format(confusion_matrix(y_test, y_pred)))\n",
    "print('Accuracy Score: \\n{}'.format(accuracy_score(y_test, y_pred)*100))"
   ]
  },
  {
   "cell_type": "markdown",
   "metadata": {},
   "source": [
    "### Rapid accuracy tesing with [`sklearn.model_selection.KFold`](https://scikit-learn.org/stable/modules/generated/sklearn.model_selection.KFold.html)\n",
    "`KFold` makes multiple train, test data splits (in this case $k=5$) for quick accuracy testing on **multiple models**.  \n",
    "  \n",
    "  \n",
    "**NOTE:** `KFold` returns lists of indicies that refer to the dataset, whereas `train_test_split` returns copies of the actual data from the set.  \n",
    "  \n",
    "  \n",
    "\n",
    "- `get_n_splits([X, y, groups])`\tReturns the number of splitting iterations in the cross-validator  \n",
    "- `split(X[, y, groups])`\tGenerate `np.array` of indices to split data into training and test set."
   ]
  },
  {
   "cell_type": "code",
   "execution_count": 8,
   "metadata": {},
   "outputs": [
    {
     "name": "stdout",
     "output_type": "stream",
     "text": [
      "Accuracies for 5 tests: [75.32467532467533, 71.42857142857143, 74.67532467532467, 80.3921568627451, 74.50980392156863]\n",
      "The mean accuracy is:  75.26610644257703\n"
     ]
    }
   ],
   "source": [
    "k_fold = KFold(n_splits=5)   \n",
    "k_fold.get_n_splits(X)        # get_n_splits  returns the number of splitting iterations \n",
    "accuracies=[]\n",
    "\n",
    "# new model for accuracy tesing on k subsets of diabetes.csv\n",
    "clf2 = GaussianNB()\n",
    "for train_idx, test_idx in k_fold.split(X):     #split generates indices to split data into training and test set.\n",
    "    train_X, test_X = X[train_idx], X[test_idx]\n",
    "    train_y, test_y = y[train_idx], y[test_idx]\n",
    "    clf2.fit(train_X, train_y)\n",
    "    predictions = clf2.predict(test_X)\n",
    "    accuracy = accuracy_score(test_y, predictions)*100\n",
    "    accuracies.append(accuracy)\n",
    "    \n",
    "print('Accuracies for 5 tests: {}'.format(accuracies))    \n",
    "print(\"The mean accuracy is: \", np.mean(accuracies))"
   ]
  }
 ],
 "metadata": {
  "kernelspec": {
   "display_name": "Python 3",
   "language": "python",
   "name": "python3"
  },
  "language_info": {
   "codemirror_mode": {
    "name": "ipython",
    "version": 3
   },
   "file_extension": ".py",
   "mimetype": "text/x-python",
   "name": "python",
   "nbconvert_exporter": "python",
   "pygments_lexer": "ipython3",
   "version": "3.7.0"
  }
 },
 "nbformat": 4,
 "nbformat_minor": 2
}
