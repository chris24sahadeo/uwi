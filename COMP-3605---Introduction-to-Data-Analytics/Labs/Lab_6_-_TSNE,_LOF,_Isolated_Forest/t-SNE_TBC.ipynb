{
 "cells": [
  {
   "cell_type": "markdown",
   "metadata": {},
   "source": [
    "# t-SNE\n",
    "[Wikipedia's Notes on t-SNE](https://en.wikipedia.org/wiki/T-distributed_stochastic_neighbor_embedding)\n",
    "\n",
    "## `sklearn` summary of t-SNE\n"
   ]
  },
  {
   "cell_type": "code",
   "execution_count": 23,
   "metadata": {
    "scrolled": true
   },
   "outputs": [
    {
     "name": "stdout",
     "output_type": "stream",
     "text": [
      "Help on class TSNE in module sklearn.manifold.t_sne:\n",
      "\n",
      "class TSNE(sklearn.base.BaseEstimator)\n",
      " |  TSNE(n_components=2, perplexity=30.0, early_exaggeration=12.0, learning_rate=200.0, n_iter=1000, n_iter_without_progress=300, min_grad_norm=1e-07, metric='euclidean', init='random', verbose=0, random_state=None, method='barnes_hut', angle=0.5)\n",
      " |  \n",
      " |  t-distributed Stochastic Neighbor Embedding.\n",
      " |  \n",
      " |  t-SNE [1] is a tool to visualize high-dimensional data. It converts\n",
      " |  similarities between data points to joint probabilities and tries\n",
      " |  to minimize the Kullback-Leibler divergence between the joint\n",
      " |  probabilities of the low-dimensional embedding and the\n",
      " |  high-dimensional data. t-SNE has a cost function that is not convex,\n",
      " |  i.e. with different initializations we can get different results.\n",
      " |  \n",
      " |  It is highly recommended to use another dimensionality reduction\n",
      " |  method (e.g. PCA for dense data or TruncatedSVD for sparse data)\n",
      " |  to reduce the number of dimensions to a reasonable amount (e.g. 50)\n",
      " |  if the number of features is very high. This will suppress some\n",
      " |  noise and speed up the computation of pairwise distances between\n",
      " |  samples. For more tips see Laurens van der Maaten's FAQ [2].\n",
      " |  \n",
      " |  Read more in the :ref:`User Guide <t_sne>`.\n",
      " |  \n",
      " |  Parameters\n",
      " |  ----------\n",
      " |  n_components : int, optional (default: 2)\n",
      " |      Dimension of the embedded space.\n",
      " |  \n",
      " |  perplexity : float, optional (default: 30)\n",
      " |      The perplexity is related to the number of nearest neighbors that\n",
      " |      is used in other manifold learning algorithms. Larger datasets\n",
      " |      usually require a larger perplexity. Consider selecting a value\n",
      " |      between 5 and 50. The choice is not extremely critical since t-SNE\n",
      " |      is quite insensitive to this parameter.\n",
      " |  \n",
      " |  early_exaggeration : float, optional (default: 12.0)\n",
      " |      Controls how tight natural clusters in the original space are in\n",
      " |      the embedded space and how much space will be between them. For\n",
      " |      larger values, the space between natural clusters will be larger\n",
      " |      in the embedded space. Again, the choice of this parameter is not\n",
      " |      very critical. If the cost function increases during initial\n",
      " |      optimization, the early exaggeration factor or the learning rate\n",
      " |      might be too high.\n",
      " |  \n",
      " |  learning_rate : float, optional (default: 200.0)\n",
      " |      The learning rate for t-SNE is usually in the range [10.0, 1000.0]. If\n",
      " |      the learning rate is too high, the data may look like a 'ball' with any\n",
      " |      point approximately equidistant from its nearest neighbours. If the\n",
      " |      learning rate is too low, most points may look compressed in a dense\n",
      " |      cloud with few outliers. If the cost function gets stuck in a bad local\n",
      " |      minimum increasing the learning rate may help.\n",
      " |  \n",
      " |  n_iter : int, optional (default: 1000)\n",
      " |      Maximum number of iterations for the optimization. Should be at\n",
      " |      least 250.\n",
      " |  \n",
      " |  n_iter_without_progress : int, optional (default: 300)\n",
      " |      Maximum number of iterations without progress before we abort the\n",
      " |      optimization, used after 250 initial iterations with early\n",
      " |      exaggeration. Note that progress is only checked every 50 iterations so\n",
      " |      this value is rounded to the next multiple of 50.\n",
      " |  \n",
      " |      .. versionadded:: 0.17\n",
      " |         parameter *n_iter_without_progress* to control stopping criteria.\n",
      " |  \n",
      " |  min_grad_norm : float, optional (default: 1e-7)\n",
      " |      If the gradient norm is below this threshold, the optimization will\n",
      " |      be stopped.\n",
      " |  \n",
      " |  metric : string or callable, optional\n",
      " |      The metric to use when calculating distance between instances in a\n",
      " |      feature array. If metric is a string, it must be one of the options\n",
      " |      allowed by scipy.spatial.distance.pdist for its metric parameter, or\n",
      " |      a metric listed in pairwise.PAIRWISE_DISTANCE_FUNCTIONS.\n",
      " |      If metric is \"precomputed\", X is assumed to be a distance matrix.\n",
      " |      Alternatively, if metric is a callable function, it is called on each\n",
      " |      pair of instances (rows) and the resulting value recorded. The callable\n",
      " |      should take two arrays from X as input and return a value indicating\n",
      " |      the distance between them. The default is \"euclidean\" which is\n",
      " |      interpreted as squared euclidean distance.\n",
      " |  \n",
      " |  init : string or numpy array, optional (default: \"random\")\n",
      " |      Initialization of embedding. Possible options are 'random', 'pca',\n",
      " |      and a numpy array of shape (n_samples, n_components).\n",
      " |      PCA initialization cannot be used with precomputed distances and is\n",
      " |      usually more globally stable than random initialization.\n",
      " |  \n",
      " |  verbose : int, optional (default: 0)\n",
      " |      Verbosity level.\n",
      " |  \n",
      " |  random_state : int, RandomState instance or None, optional (default: None)\n",
      " |      If int, random_state is the seed used by the random number generator;\n",
      " |      If RandomState instance, random_state is the random number generator;\n",
      " |      If None, the random number generator is the RandomState instance used\n",
      " |      by `np.random`.  Note that different initializations might result in\n",
      " |      different local minima of the cost function.\n",
      " |  \n",
      " |  method : string (default: 'barnes_hut')\n",
      " |      By default the gradient calculation algorithm uses Barnes-Hut\n",
      " |      approximation running in O(NlogN) time. method='exact'\n",
      " |      will run on the slower, but exact, algorithm in O(N^2) time. The\n",
      " |      exact algorithm should be used when nearest-neighbor errors need\n",
      " |      to be better than 3%. However, the exact method cannot scale to\n",
      " |      millions of examples.\n",
      " |  \n",
      " |      .. versionadded:: 0.17\n",
      " |         Approximate optimization *method* via the Barnes-Hut.\n",
      " |  \n",
      " |  angle : float (default: 0.5)\n",
      " |      Only used if method='barnes_hut'\n",
      " |      This is the trade-off between speed and accuracy for Barnes-Hut T-SNE.\n",
      " |      'angle' is the angular size (referred to as theta in [3]) of a distant\n",
      " |      node as measured from a point. If this size is below 'angle' then it is\n",
      " |      used as a summary node of all points contained within it.\n",
      " |      This method is not very sensitive to changes in this parameter\n",
      " |      in the range of 0.2 - 0.8. Angle less than 0.2 has quickly increasing\n",
      " |      computation time and angle greater 0.8 has quickly increasing error.\n",
      " |  \n",
      " |  Attributes\n",
      " |  ----------\n",
      " |  embedding_ : array-like, shape (n_samples, n_components)\n",
      " |      Stores the embedding vectors.\n",
      " |  \n",
      " |  kl_divergence_ : float\n",
      " |      Kullback-Leibler divergence after optimization.\n",
      " |  \n",
      " |  n_iter_ : int\n",
      " |      Number of iterations run.\n",
      " |  \n",
      " |  Examples\n",
      " |  --------\n",
      " |  \n",
      " |  >>> import numpy as np\n",
      " |  >>> from sklearn.manifold import TSNE\n",
      " |  >>> X = np.array([[0, 0, 0], [0, 1, 1], [1, 0, 1], [1, 1, 1]])\n",
      " |  >>> X_embedded = TSNE(n_components=2).fit_transform(X)\n",
      " |  >>> X_embedded.shape\n",
      " |  (4, 2)\n",
      " |  \n",
      " |  References\n",
      " |  ----------\n",
      " |  \n",
      " |  [1] van der Maaten, L.J.P.; Hinton, G.E. Visualizing High-Dimensional Data\n",
      " |      Using t-SNE. Journal of Machine Learning Research 9:2579-2605, 2008.\n",
      " |  \n",
      " |  [2] van der Maaten, L.J.P. t-Distributed Stochastic Neighbor Embedding\n",
      " |      http://homepage.tudelft.nl/19j49/t-SNE.html\n",
      " |  \n",
      " |  [3] L.J.P. van der Maaten. Accelerating t-SNE using Tree-Based Algorithms.\n",
      " |      Journal of Machine Learning Research 15(Oct):3221-3245, 2014.\n",
      " |      http://lvdmaaten.github.io/publications/papers/JMLR_2014.pdf\n",
      " |  \n",
      " |  Method resolution order:\n",
      " |      TSNE\n",
      " |      sklearn.base.BaseEstimator\n",
      " |      builtins.object\n",
      " |  \n",
      " |  Methods defined here:\n",
      " |  \n",
      " |  __init__(self, n_components=2, perplexity=30.0, early_exaggeration=12.0, learning_rate=200.0, n_iter=1000, n_iter_without_progress=300, min_grad_norm=1e-07, metric='euclidean', init='random', verbose=0, random_state=None, method='barnes_hut', angle=0.5)\n",
      " |      Initialize self.  See help(type(self)) for accurate signature.\n",
      " |  \n",
      " |  fit(self, X, y=None)\n",
      " |      Fit X into an embedded space.\n",
      " |      \n",
      " |      Parameters\n",
      " |      ----------\n",
      " |      X : array, shape (n_samples, n_features) or (n_samples, n_samples)\n",
      " |          If the metric is 'precomputed' X must be a square distance\n",
      " |          matrix. Otherwise it contains a sample per row. If the method\n",
      " |          is 'exact', X may be a sparse matrix of type 'csr', 'csc'\n",
      " |          or 'coo'.\n",
      " |      \n",
      " |      y : Ignored.\n",
      " |  \n",
      " |  fit_transform(self, X, y=None)\n",
      " |      Fit X into an embedded space and return that transformed\n",
      " |      output.\n",
      " |      \n",
      " |      Parameters\n",
      " |      ----------\n",
      " |      X : array, shape (n_samples, n_features) or (n_samples, n_samples)\n",
      " |          If the metric is 'precomputed' X must be a square distance\n",
      " |          matrix. Otherwise it contains a sample per row.\n",
      " |      \n",
      " |      y : Ignored.\n",
      " |      \n",
      " |      Returns\n",
      " |      -------\n",
      " |      X_new : array, shape (n_samples, n_components)\n",
      " |          Embedding of the training data in low-dimensional space.\n",
      " |  \n",
      " |  ----------------------------------------------------------------------\n",
      " |  Data descriptors defined here:\n",
      " |  \n",
      " |  n_iter_final\n",
      " |      DEPRECATED: Attribute n_iter_final was deprecated in version 0.19 and will be removed in 0.21. Use ``n_iter_`` instead\n",
      " |  \n",
      " |  ----------------------------------------------------------------------\n",
      " |  Methods inherited from sklearn.base.BaseEstimator:\n",
      " |  \n",
      " |  __getstate__(self)\n",
      " |  \n",
      " |  __repr__(self)\n",
      " |      Return repr(self).\n",
      " |  \n",
      " |  __setstate__(self, state)\n",
      " |  \n",
      " |  get_params(self, deep=True)\n",
      " |      Get parameters for this estimator.\n",
      " |      \n",
      " |      Parameters\n",
      " |      ----------\n",
      " |      deep : boolean, optional\n",
      " |          If True, will return the parameters for this estimator and\n",
      " |          contained subobjects that are estimators.\n",
      " |      \n",
      " |      Returns\n",
      " |      -------\n",
      " |      params : mapping of string to any\n",
      " |          Parameter names mapped to their values.\n",
      " |  \n",
      " |  set_params(self, **params)\n",
      " |      Set the parameters of this estimator.\n",
      " |      \n",
      " |      The method works on simple estimators as well as on nested objects\n",
      " |      (such as pipelines). The latter have parameters of the form\n",
      " |      ``<component>__<parameter>`` so that it's possible to update each\n",
      " |      component of a nested object.\n",
      " |      \n",
      " |      Returns\n",
      " |      -------\n",
      " |      self\n",
      " |  \n",
      " |  ----------------------------------------------------------------------\n",
      " |  Data descriptors inherited from sklearn.base.BaseEstimator:\n",
      " |  \n",
      " |  __dict__\n",
      " |      dictionary for instance variables (if defined)\n",
      " |  \n",
      " |  __weakref__\n",
      " |      list of weak references to the object (if defined)\n",
      "\n"
     ]
    }
   ],
   "source": [
    "from sklearn.manifold import TSNE\n",
    "help(TSNE)"
   ]
  },
  {
   "cell_type": "code",
   "execution_count": 3,
   "metadata": {},
   "outputs": [
    {
     "data": {
      "image/jpeg": "[encoded data removed]",
      "text/html": [
       "\n",
       "        <iframe\n",
       "            width=\"800\"\n",
       "            height=\"400\"\n",
       "            src=\"https://www.youtube.com/embed/NEaUSP4YerM\"\n",
       "            frameborder=\"0\"\n",
       "            allowfullscreen\n",
       "        ></iframe>\n",
       "        "
      ],
      "text/plain": [
       "<IPython.lib.display.YouTubeVideo at 0x7fc66922df98>"
      ]
     },
     "execution_count": 3,
     "metadata": {},
     "output_type": "execute_result"
    }
   ],
   "source": [
    "from IPython.lib.display import YouTubeVideo\n",
    "YouTubeVideo('NEaUSP4YerM',width=800, height=400)"
   ]
  },
  {
   "cell_type": "markdown",
   "metadata": {},
   "source": [
    "***\n",
    "***\n",
    "## Python Implementation from Lab using [`sklearn.manifold.TSNE`](https://scikit-learn.org/stable/modules/generated/sklearn.manifold.TSNE.html)\n",
    "**<font size=\"5\" color=\"red\">CHECK: We will use t-SNE to visualize the 4-dimensional iris dataset, as 2 dimensions?</font>**"
   ]
  },
  {
   "cell_type": "markdown",
   "metadata": {},
   "source": [
    "### Imports"
   ]
  },
  {
   "cell_type": "code",
   "execution_count": 15,
   "metadata": {},
   "outputs": [],
   "source": [
    "import numpy as np\n",
    "import pandas as pd\n",
    "from sklearn.tree import DecisionTreeClassifier\n",
    "import sklearn.metrics as metrics\n",
    "from sklearn.preprocessing import LabelEncoder\n",
    "from sklearn.model_selection import KFold\n",
    "import matplotlib.pyplot as plt"
   ]
  },
  {
   "cell_type": "markdown",
   "metadata": {},
   "source": [
    "### Read data [`iris dataset`](https://scikit-learn.org/stable/auto_examples/datasets/plot_iris_dataset.html)\n",
    "[`sklearn.datasets.load_iris`](sklearn.datasets.load_iris)  \n",
    "This data sets consists of 3 different types of irises’ (Setosa, Versicolour, and Virginica) petal and sepal length, stored in a 150x4 numpy.ndarray  \n",
    "\n",
    "The rows being the samples and the columns being: Sepal Length, Sepal Width, Petal Length and Petal Width."
   ]
  },
  {
   "cell_type": "code",
   "execution_count": 1,
   "metadata": {
    "scrolled": true
   },
   "outputs": [
    {
     "name": "stdout",
     "output_type": "stream",
     "text": [
      "Help on function load_iris in module sklearn.datasets.base:\n",
      "\n",
      "load_iris(return_X_y=False)\n",
      "    Load and return the iris dataset (classification).\n",
      "    \n",
      "    The iris dataset is a classic and very easy multi-class classification\n",
      "    dataset.\n",
      "    \n",
      "    =================   ==============\n",
      "    Classes                          3\n",
      "    Samples per class               50\n",
      "    Samples total                  150\n",
      "    Dimensionality                   4\n",
      "    Features            real, positive\n",
      "    =================   ==============\n",
      "    \n",
      "    Read more in the :ref:`User Guide <datasets>`.\n",
      "    \n",
      "    Parameters\n",
      "    ----------\n",
      "    return_X_y : boolean, default=False.\n",
      "        If True, returns ``(data, target)`` instead of a Bunch object. See\n",
      "        below for more information about the `data` and `target` object.\n",
      "    \n",
      "        .. versionadded:: 0.18\n",
      "    \n",
      "    Returns\n",
      "    -------\n",
      "    data : Bunch\n",
      "        Dictionary-like object, the interesting attributes are:\n",
      "        'data', the data to learn, 'target', the classification labels,\n",
      "        'target_names', the meaning of the labels, 'feature_names', the\n",
      "        meaning of the features, and 'DESCR', the\n",
      "        full description of the dataset.\n",
      "    \n",
      "    (data, target) : tuple if ``return_X_y`` is True\n",
      "    \n",
      "        .. versionadded:: 0.18\n",
      "    \n",
      "    Examples\n",
      "    --------\n",
      "    Let's say you are interested in the samples 10, 25, and 50, and want to\n",
      "    know their class name.\n",
      "    \n",
      "    >>> from sklearn.datasets import load_iris\n",
      "    >>> data = load_iris()\n",
      "    >>> data.target[[10, 25, 50]]\n",
      "    array([0, 0, 1])\n",
      "    >>> list(data.target_names)\n",
      "    ['setosa', 'versicolor', 'virginica']\n",
      "\n"
     ]
    }
   ],
   "source": [
    "from sklearn.datasets import load_iris\n",
    "help(load_iris)"
   ]
  },
  {
   "cell_type": "code",
   "execution_count": 16,
   "metadata": {
    "scrolled": true
   },
   "outputs": [
    {
     "name": "stdout",
     "output_type": "stream",
     "text": [
      "   Id  SepalLengthCm  SepalWidthCm  PetalLengthCm  PetalWidthCm      Species\n",
      "0   1            5.1           3.5            1.4           0.2  Iris-setosa\n",
      "1   2            4.9           3.0            1.4           0.2  Iris-setosa\n",
      "2   3            4.7           3.2            1.3           0.2  Iris-setosa\n",
      "3   4            4.6           3.1            1.5           0.2  Iris-setosa\n",
      "4   5            5.0           3.6            1.4           0.2  Iris-setosa\n"
     ]
    }
   ],
   "source": [
    "filename = 'Iris.csv'\n",
    "df = pd.read_csv(filename)\n",
    "print(df.head())"
   ]
  },
  {
   "cell_type": "markdown",
   "metadata": {},
   "source": [
    "### Converting text to numerical with [`sklearn.preprocessing.LabelEncoder`](https://scikit-learn.org/stable/modules/generated/sklearn.preprocessing.LabelEncoder.html)\n",
    "Mapping Species to numbers"
   ]
  },
  {
   "cell_type": "code",
   "execution_count": 17,
   "metadata": {},
   "outputs": [
    {
     "name": "stdout",
     "output_type": "stream",
     "text": [
      "   Id  SepalLengthCm  SepalWidthCm  PetalLengthCm  PetalWidthCm  Species\n",
      "0   1            5.1           3.5            1.4           0.2        0\n",
      "1   2            4.9           3.0            1.4           0.2        0\n",
      "2   3            4.7           3.2            1.3           0.2        0\n",
      "3   4            4.6           3.1            1.5           0.2        0\n",
      "4   5            5.0           3.6            1.4           0.2        0\n"
     ]
    }
   ],
   "source": [
    "species_encoder = LabelEncoder()\n",
    "\n",
    "# species_encoder.fit(df['Species'])\n",
    "# df['Species'] = species_encoder.transform(df['Species'])\n",
    "\n",
    "# OR IN ONE LINE:\n",
    "df['Species'] = species_encoder.fit_transform(df['Species'])\n",
    "print(df.head())"
   ]
  },
  {
   "cell_type": "markdown",
   "metadata": {},
   "source": [
    "### Data cleaning"
   ]
  },
  {
   "cell_type": "code",
   "execution_count": 18,
   "metadata": {},
   "outputs": [],
   "source": [
    "df = df.sample(frac=1) # shuffle rows of dataset\n",
    "target = df['Species']\n",
    "\n",
    "# inputs = df.loc[:,'SepalLengthCm':'PetalWidthCm'] # attributes\n",
    "# OR using drop\n",
    "inputs = df.drop(['Id','Species'],axis=1)\n",
    "\n",
    "X = inputs.values\n",
    "y = target.values\n",
    "\n",
    "# print(X, y)"
   ]
  },
  {
   "cell_type": "markdown",
   "metadata": {},
   "source": [
    "### **<font size=\"5\" color=\"red\">What is the purpose of this???</font>**"
   ]
  },
  {
   "cell_type": "code",
   "execution_count": 19,
   "metadata": {},
   "outputs": [
    {
     "name": "stdout",
     "output_type": "stream",
     "text": [
      "0.9533333333333334\n",
      "0.02666666666666666\n",
      "[0.9333333333333333, 0.9666666666666667, 0.9333333333333333, 0.9333333333333333, 1.0]\n"
     ]
    }
   ],
   "source": [
    "k_fold = KFold(n_splits=5)\n",
    "k_fold.get_n_splits(X)    # this is simply an accessor, useless\n",
    "\n",
    "\n",
    "accs = []\n",
    "for train_idx, test_idx in k_fold.split(X):\n",
    "    train_X, test_X = X[train_idx], X[test_idx]\n",
    "    train_y, test_y = y[train_idx], y[test_idx]\n",
    "    clf = DecisionTreeClassifier()\n",
    "    clf.fit(train_X, train_y)\n",
    "    predictions = clf.predict(test_X)\n",
    "    acc = metrics.f1_score(test_y, predictions, average='micro') # mean average percentage error\n",
    "    accs.append(acc)\n",
    "print(np.mean(accs))\n",
    "print(np.std(accs))\n",
    "print(accs)"
   ]
  },
  {
   "cell_type": "markdown",
   "metadata": {},
   "source": [
    "### Executing t-SNE"
   ]
  },
  {
   "cell_type": "code",
   "execution_count": 20,
   "metadata": {},
   "outputs": [],
   "source": [
    "tsne = TSNE(n_components=2)\n",
    "projections = tsne.fit_transform(X)"
   ]
  },
  {
   "cell_type": "markdown",
   "metadata": {},
   "source": [
    "### Visualizing the results"
   ]
  },
  {
   "cell_type": "code",
   "execution_count": 21,
   "metadata": {},
   "outputs": [
    {
     "name": "stderr",
     "output_type": "stream",
     "text": [
      "/home/chris24/anaconda3/lib/python3.7/site-packages/sklearn/preprocessing/label.py:151: DeprecationWarning: The truth value of an empty array is ambiguous. Returning False, but in future this will result in an error. Use `array.size > 0` to check that an array is not empty.\n",
      "  if diff:\n",
      "/home/chris24/anaconda3/lib/python3.7/site-packages/sklearn/preprocessing/label.py:151: DeprecationWarning: The truth value of an empty array is ambiguous. Returning False, but in future this will result in an error. Use `array.size > 0` to check that an array is not empty.\n",
      "  if diff:\n",
      "/home/chris24/anaconda3/lib/python3.7/site-packages/sklearn/preprocessing/label.py:151: DeprecationWarning: The truth value of an empty array is ambiguous. Returning False, but in future this will result in an error. Use `array.size > 0` to check that an array is not empty.\n",
      "  if diff:\n"
     ]
    },
    {
     "data": {
      "text/plain": [
       "<Figure size 1080x720 with 0 Axes>"
      ]
     },
     "metadata": {},
     "output_type": "display_data"
    },
    {
     "data": {
      "image/png": "[encoded data removed]",
      "text/plain": [
       "<Figure size 432x288 with 1 Axes>"
      ]
     },
     "metadata": {
      "needs_background": "light"
     },
     "output_type": "display_data"
    }
   ],
   "source": [
    "def color_mapping(cl):\n",
    "    colors = ['red', 'blue', 'green']\n",
    "    return colors[cl]\n",
    "color_mapper = np.vectorize(color_mapping)\n",
    "colors = color_mapper(y)\n",
    "\n",
    "\n",
    "def plot_classification(ax, x, y, colors, legend):\n",
    "    color_set = set(colors)\n",
    "    for color in color_set:\n",
    "        x_curr = []\n",
    "        y_curr = []\n",
    "        for i, c in enumerate(colors):\n",
    "            if c == color:\n",
    "                x_curr.append(x[i])\n",
    "                y_curr.append(y[i])\n",
    "        ax.scatter(x_curr, y_curr, c=color,label=legend[color])\n",
    "\n",
    "\n",
    "plt.figure(figsize=(15, 10))\n",
    "fig, ax = plt.subplots()\n",
    "legend = {'red': species_encoder.inverse_transform(0), # transforming numbers back to words\n",
    "          'blue': species_encoder.inverse_transform(1),\n",
    "         'green': species_encoder.inverse_transform(2)}\n",
    "plot_classification(ax, projections[:,0], projections[:,1], colors, legend)\n",
    "ax.set_xlabel('component0')\n",
    "ax.set_ylabel('component1')\n",
    "ax.legend()\n",
    "\n",
    "plt.show()"
   ]
  },
  {
   "cell_type": "code",
   "execution_count": null,
   "metadata": {},
   "outputs": [],
   "source": []
  }
 ],
 "metadata": {
  "kernelspec": {
   "display_name": "Python 3",
   "language": "python",
   "name": "python3"
  },
  "language_info": {
   "codemirror_mode": {
    "name": "ipython",
    "version": 3
   },
   "file_extension": ".py",
   "mimetype": "text/x-python",
   "name": "python",
   "nbconvert_exporter": "python",
   "pygments_lexer": "ipython3",
   "version": "3.7.0"
  }
 },
 "nbformat": 4,
 "nbformat_minor": 2
}
